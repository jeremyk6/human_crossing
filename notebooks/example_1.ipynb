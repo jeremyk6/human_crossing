{
 "cells": [
  {
   "attachments": {},
   "cell_type": "markdown",
   "metadata": {},
   "source": [
    "# maps for a more complex intersection (example_1)"
   ]
  },
  {
   "attachments": {},
   "cell_type": "markdown",
   "metadata": {},
   "source": [
    "## this location and the data\n",
    "a five way intersection, slightly skewed, with traffic islands, surrounded by a bunch of buildings and some sidewalk grass. \n",
    "\n",
    "![image of the intersection](pics/example_1_0.PNG)\n",
    "\n",
    "The data in OSM has the sidewalk mapped as lines\n",
    "\n",
    "![osm data image](pics/example_1_1.PNG)"
   ]
  },
  {
   "attachments": {},
   "cell_type": "markdown",
   "metadata": {},
   "source": [
    "## the parameters\n",
    "use this set of parameters to make an A4 map, with some weird styles:\n",
    "\n",
    "(the same as the param.json)\n",
    "```json\n",
    "{\n",
    "    \"size_code\": \"A4\", \n",
    "    \"center_lat\": 48.58630,\n",
    "    \"center_lon\": 7.76322,\n",
    "    \"line_width\": 1, \n",
    "    \"line_gap\": 3, \n",
    "    \"area_gap\": 5, \n",
    "    \"icon_size\": 4, \n",
    "    \"icon_gap\": 3,\n",
    "    \"building_level\": \"detailed\",\n",
    "    \"overlay_pref\": \"direct\",\n",
    "    \"object_list\": [\"building\", \"green\"],\n",
    "    \"style_list\": [\"area_8\", \"sidewalk_area_default\"],\n",
    "    \"lane_width\": 3.5,  // don't change this\n",
    "    \"epsg\": \"3857\"  // don't change this either\n",
    "}"
   ]
  },
  {
   "attachments": {},
   "cell_type": "markdown",
   "metadata": {},
   "source": [
    "## running the scripts\n",
    "\n",
    "1. `00a_prepare.py` makes some basic preparations (making folders, and making the extent for the processing and the map)"
   ]
  },
  {
   "cell_type": "code",
   "execution_count": null,
   "metadata": {},
   "outputs": [],
   "source": [
    "# change working directory to the scripts location\n",
    "import os\n",
    "curr = os.getcwd()\n",
    "target = '/home/jovyan/notebook_scripts/'\n",
    "if curr != target:\n",
    "    %cd '../notebook_scripts'\n",
    "os.getcwd()"
   ]
  },
  {
   "cell_type": "code",
   "execution_count": null,
   "metadata": {},
   "outputs": [],
   "source": [
    "%run 00a_prepare.py example_1"
   ]
  },
  {
   "attachments": {},
   "cell_type": "markdown",
   "metadata": {},
   "source": [
    "2. `00b_pre_process.py` extracts the data from the `map.osm` and does some basic proeesings on the street, including estimating the lane count of the street\n",
    "\n",
    "    data extracted from osm:\n",
    "    - street (line)\n",
    "    - pedestrian crossing (point)\n",
    "    - sidewalk (area or line, depending on availability)\n",
    "    - buildings (area)\n",
    "    - green areas (area)\n",
    "    - bus stop (point)"
   ]
  },
  {
   "cell_type": "code",
   "execution_count": null,
   "metadata": {},
   "outputs": [],
   "source": [
    "%run 00b_pre_process.py example_1"
   ]
  },
  {
   "attachments": {},
   "cell_type": "markdown",
   "metadata": {},
   "source": [
    "after this, normally you check the data to see if the lane counts are currectly labelled and correct it if you need to."
   ]
  },
  {
   "attachments": {},
   "cell_type": "markdown",
   "metadata": {},
   "source": [
    "3. `01_street.py` creates the street boundary line (the curb line) from the street and/or sidewalk data.\n",
    "\n",
    "if there is sidewalk area data available, the street boundary would use the sidewalk boundary because that is more accurate. Although sidewalk as an area can only be properly displayed on A3 (1:500) maps because minimal area dimension and gap requirements etc.\n",
    "\n",
    "if there is no sidewalk area data available like this location, the lane count estimated in the previous step is used to create an area feature of the street, the smoothed boundary of this area feature becomes the curb line."
   ]
  },
  {
   "cell_type": "code",
   "execution_count": null,
   "metadata": {},
   "outputs": [],
   "source": [
    "warnings.filterwarnings('ignore')\n",
    "%run 01_street.py example_1"
   ]
  },
  {
   "attachments": {},
   "cell_type": "markdown",
   "metadata": {},
   "source": [
    "4. `02_pedestrian_crossing.py` make pedestrian crossing lines from the points. "
   ]
  },
  {
   "cell_type": "code",
   "execution_count": null,
   "metadata": {},
   "outputs": [],
   "source": [
    "%run 02_pedestrian_crossing.py example_1"
   ]
  },
  {
   "attachments": {},
   "cell_type": "markdown",
   "metadata": {},
   "source": [
    "quick plot of the curb line, the islands and the pedestrian crossings"
   ]
  },
  {
   "cell_type": "code",
   "execution_count": null,
   "metadata": {},
   "outputs": [],
   "source": [
    "import geopandas as gpd\n",
    "\n",
    "streets = gpd.read_file(\"../example_1/data/1000/street_boundary_filled.geojson\")\n",
    "zebras = gpd.read_file(\"../example_1/data/1000/crossing_lines.geojson\")\n",
    "islands = gpd.read_file(\"../example_1/data/1000/islands_full.geojson\")\n",
    "extent = gpd.read_file(\"../example_1/data/extent_A4.geojson\")\n",
    "\n",
    "ax = streets.plot()\n",
    "zebras.plot(ax=ax, color='r')\n",
    "islands.plot(ax=ax, color='lightgray')\n",
    "minx, miny, maxx, maxy = extent.total_bounds\n",
    "ax.set_xlim(minx, maxx)\n",
    "ax.set_ylim(miny, maxy)"
   ]
  },
  {
   "attachments": {},
   "cell_type": "markdown",
   "metadata": {},
   "source": [
    "this location no traffic island, and these islands are configured differently. \n",
    "\n",
    "there is one kind of configuration (a \"cut through\") where there the traffic island is cut into two parts with raised curbs along the middle section where the pedestrian pass. like this:\n",
    "\n",
    "![image of the cut through](pics/example_1_2.PNG)\n",
    "\n",
    "and there is another kind of configuration (a \"slope\") where there are no additional curbs:\n",
    "\n",
    "![image of the slope island](pics/example_1_3.PNG)\n",
    "\n",
    "\n",
    "there is a choice, to differenciate these two kind of configuration and present them differently on the map. This step is not mandatory, if such information is not important to your mobility needs (e.g. when your dog will leads you through the island.)\n",
    "\n",
    "BUT THIS INVOLVES A MANUAL STEP to identify which island is a cut-through (there is NO way to know this from the data.)"
   ]
  },
  {
   "attachments": {},
   "cell_type": "markdown",
   "metadata": {},
   "source": [
    "if you want to do this step:\n",
    "\n",
    "1. go to find the file `island.geojson` and visualize it \n",
    "2. for the island with a cut through, manually edit the attribute `split` into `1`\n",
    "3. run the split island script"
   ]
  },
  {
   "cell_type": "code",
   "execution_count": null,
   "metadata": {},
   "outputs": [],
   "source": [
    "%run 03_island_split.py example_1"
   ]
  },
  {
   "attachments": {},
   "cell_type": "markdown",
   "metadata": {},
   "source": [
    "then do the buildings and the grass areas "
   ]
  },
  {
   "cell_type": "code",
   "execution_count": null,
   "metadata": {},
   "outputs": [],
   "source": [
    "%run 06a_buildings.py example_1\n",
    "%run 06b_green.py example_1"
   ]
  },
  {
   "attachments": {},
   "cell_type": "markdown",
   "metadata": {},
   "source": [
    "and a little plot of the original building location / shape and the generalized location / shape: in the \"detailed\" generalization scenario, it's not generalized as much."
   ]
  },
  {
   "cell_type": "code",
   "execution_count": null,
   "metadata": {},
   "outputs": [],
   "source": [
    "import geopandas as gpd\n",
    "\n",
    "import warnings\n",
    "warnings.filterwarnings('ignore')\n",
    "\n",
    "building_osm = gpd.read_file('../example_1/data/buildings.geojson')\n",
    "building_gen = gpd.read_file('../example_1/data/500/buildings_gen.geojson')\n",
    "extent = gpd.read_file(\"../example_1/data/extent_A4.geojson\")\n",
    "\n",
    "ax = building_osm.plot(color='lightblue', alpha=0.5)\n",
    "building_gen.plot(ax=ax, color='lightgray', alpha=0.7)\n",
    "minx, miny, maxx, maxy = extent.total_bounds\n",
    "ax.set_xlim(minx, maxx)\n",
    "ax.set_ylim(miny, maxy)"
   ]
  },
  {
   "attachments": {},
   "cell_type": "markdown",
   "metadata": {},
   "source": [
    "now produce the maps.\n",
    "\n",
    "the styles and templates that are currently included.\n",
    "\n",
    "![default styles](pics/style_samples.PNG)\n",
    "\n",
    "template A5:\n",
    "![a5 template](pics/templatea5.PNG)\n",
    "\n",
    "template A4 and A3:\n",
    "![a3 a4](pics/templatesa4.PNG)"
   ]
  },
  {
   "attachments": {},
   "cell_type": "markdown",
   "metadata": {},
   "source": [
    "first install the braille font. \"Braille TBFr2007 IHS HEA thermo\" is used here. it can be found at [here](http://natbraille.free.fr/ressources/fonts/BrailleTBFr2007INSHEAb_thermo.ttf) and in the `templates` folder.\n",
    "\n",
    "then run the map assembly script `07_assembly.py` that will piece together the geometries and the styles into the template.\n",
    "\n",
    "(it will say \"ERROR 6: The PNG driver does not support update access to existing datasets.\" but it's ok)"
   ]
  },
  {
   "cell_type": "code",
   "execution_count": null,
   "metadata": {},
   "outputs": [],
   "source": [
    "# install fonts on this virtual machine\n",
    "%mkdir ~/.local/share/fonts\n",
    "%cp /home/jovyan/templates/BrailleTBFr2007INSHEAb_thermo.ttf  ~/.local/share/fonts/\n",
    "!fc-cache -f -v"
   ]
  },
  {
   "cell_type": "code",
   "execution_count": null,
   "metadata": {},
   "outputs": [],
   "source": [
    "# run map assembly script\n",
    "warnings.filterwarnings('ignore')\n",
    "%run 07_assembly.py example_1"
   ]
  },
  {
   "attachments": {},
   "cell_type": "markdown",
   "metadata": {},
   "source": [
    "## and the map!\n",
    "\n",
    "directly open the file from the left folder tree (`example_1/image/A4.pdf`) and check it in another tab.\n",
    "\n",
    "or run the code in the next block to have it shown here."
   ]
  },
  {
   "cell_type": "code",
   "execution_count": null,
   "metadata": {},
   "outputs": [],
   "source": [
    "from IPython.display import Image\n",
    "Image(filename='../example_0/image/A4.png')"
   ]
  }
 ],
 "metadata": {
  "kernelspec": {
   "display_name": "Python 3",
   "language": "python",
   "name": "python3"
  },
  "language_info": {
   "codemirror_mode": {
    "name": "ipython",
    "version": 3
   },
   "file_extension": ".py",
   "mimetype": "text/x-python",
   "name": "python",
   "nbconvert_exporter": "python",
   "pygments_lexer": "ipython3",
   "version": "3.7.0"
  },
  "orig_nbformat": 4
 },
 "nbformat": 4,
 "nbformat_minor": 2
}
